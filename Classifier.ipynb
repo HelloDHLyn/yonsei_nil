{
 "cells": [
  {
   "cell_type": "code",
   "execution_count": 1,
   "metadata": {
    "collapsed": true
   },
   "outputs": [],
   "source": [
    "import numpy\n",
    "import pandas\n",
    "from pandas import *\n",
    "from sklearn.ensemble import RandomForestClassifier\n",
    "\n",
    "import matplotlib\n",
    "import matplotlib.pyplot as plt\n",
    "\n",
    "matplotlib.style.use('ggplot')\n",
    "\n",
    "from dataloader import RawDataLoader"
   ]
  },
  {
   "cell_type": "code",
   "execution_count": 20,
   "metadata": {
    "collapsed": true
   },
   "outputs": [],
   "source": [
    "raw_loader = RawDataLoader()\n",
    "combined_data = []"
   ]
  },
  {
   "cell_type": "code",
   "execution_count": 23,
   "metadata": {
    "collapsed": false
   },
   "outputs": [],
   "source": [
    "for group in range(1, 4):\n",
    "    data_raw = raw_loader.load_eval(str(group))\n",
    "\n",
    "    for idx in data_raw.index:\n",
    "        data = data_raw.ix[idx]\n",
    "        data_sensor = raw_loader.load_sensor_data(data['File name'])\n",
    "\n",
    "        posture = data[' Input posture']\n",
    "        if posture == 'Both':\n",
    "            posture = 1\n",
    "        elif posture == 'Right':\n",
    "            posture = 2\n",
    "        else:\n",
    "            posture = 0\n",
    "            \n",
    "        age = data[' Age']\n",
    "        \n",
    "        combined_data.append([posture,\n",
    "                    age,\n",
    "                    year,\n",
    "                    data_sensor.acc_x.var(),\n",
    "                    data_sensor.acc_y.var(),\n",
    "                    data_sensor.acc_z.var(),\n",
    "                    data_sensor.azim.var(),\n",
    "                    data_sensor.pitch.var(),\n",
    "                    data_sensor.roll.var(),\n",
    "                    data_sensor.gyro_x.var(),\n",
    "                    data_sensor.gyro_y.var(),\n",
    "                    data_sensor.gyro_z.var(),\n",
    "                    data_sensor.acc_x.mean(),\n",
    "                    data_sensor.acc_y.mean(),\n",
    "                    data_sensor.acc_z.mean(),\n",
    "                    data_sensor.azim.mean(),\n",
    "                    data_sensor.pitch.mean(),\n",
    "                    data_sensor.roll.mean(),\n",
    "                    data_sensor.gyro_x.mean(),\n",
    "                    data_sensor.gyro_y.mean(),\n",
    "                    data_sensor.gyro_z.mean()])"
   ]
  },
  {
   "cell_type": "code",
   "execution_count": 24,
   "metadata": {
    "collapsed": false
   },
   "outputs": [],
   "source": [
    "df = DataFrame(combined_data, columns=['posture', 'age', 'year', 'acc_x', 'acc_y', 'acc_z', 'azim', 'pitch', 'roll', 'gyro_x', 'gyro_y', 'gyro_z', 'macc_x', 'macc_y', 'macc_z', 'mazim', 'mpitch', 'mroll', 'mgyro_x', 'mgyro_y', 'mgyro_z'])\n",
    "df.to_csv('data/train.csv')"
   ]
  },
  {
   "cell_type": "code",
   "execution_count": 25,
   "metadata": {
    "collapsed": false
   },
   "outputs": [],
   "source": [
    "train_data = read_csv('data/train.csv')\n",
    "\n",
    "trainY = train_data['posture'].values\n",
    "trainX = train_data.drop('posture', 1)"
   ]
  },
  {
   "cell_type": "code",
   "execution_count": 26,
   "metadata": {
    "collapsed": false
   },
   "outputs": [],
   "source": [
    "test_data = []\n",
    "\n",
    "data_raw = raw_loader.load_eval('test1')\n",
    "\n",
    "for idx in data_raw.index:\n",
    "    data = data_raw.ix[idx]\n",
    "    data_sensor = raw_loader.load_sensor_data(data['File name'])\n",
    "\n",
    "    posture = data[' Input posture']\n",
    "    if posture == 'Both':\n",
    "        posture = 1\n",
    "    elif posture == 'Right':\n",
    "        posture = 2\n",
    "    else:\n",
    "        posture = 0\n",
    "                \n",
    "    age = data[' Age']\n",
    "\n",
    "    test_data.append([posture,\n",
    "                      age,\n",
    "                      year,\n",
    "                    data_sensor.acc_x.var(),\n",
    "                    data_sensor.acc_y.var(),\n",
    "                    data_sensor.acc_z.var(),\n",
    "                    data_sensor.azim.var(),\n",
    "                    data_sensor.pitch.var(),\n",
    "                    data_sensor.roll.var(),\n",
    "                    data_sensor.gyro_x.var(),\n",
    "                    data_sensor.gyro_y.var(),\n",
    "                    data_sensor.gyro_z.var(),\n",
    "                    data_sensor.acc_x.mean(),\n",
    "                    data_sensor.acc_y.mean(),\n",
    "                    data_sensor.acc_z.mean(),\n",
    "                    data_sensor.azim.mean(),\n",
    "                    data_sensor.pitch.mean(),\n",
    "                    data_sensor.roll.mean(),\n",
    "                    data_sensor.gyro_x.mean(),\n",
    "                    data_sensor.gyro_y.mean(),\n",
    "                    data_sensor.gyro_z.mean()])\n",
    "\n",
    "df = DataFrame(test_data, columns=['posture', 'age', 'year', 'acc_x', 'acc_y', 'acc_z', 'azim', 'pitch', 'roll', 'gyro_x', 'gyro_y', 'gyro_z', 'macc_x', 'macc_y', 'macc_z', 'mazim', 'mpitch', 'mroll', 'mgyro_x', 'mgyro_y', 'mgyro_z'])\n",
    "df.to_csv('data/test.csv')\n",
    "\n",
    "test_data = read_csv('data/test.csv')\n",
    "\n",
    "testY = test_data['posture'].values\n",
    "testX = test_data.drop('posture', 1)"
   ]
  },
  {
   "cell_type": "code",
   "execution_count": 121,
   "metadata": {
    "collapsed": false
   },
   "outputs": [
    {
     "data": {
      "text/plain": [
       "RandomForestClassifier(bootstrap=True, class_weight=None, criterion='gini',\n",
       "            max_depth=30, max_features='auto', max_leaf_nodes=None,\n",
       "            min_samples_leaf=1, min_samples_split=2,\n",
       "            min_weight_fraction_leaf=0.0, n_estimators=100, n_jobs=1,\n",
       "            oob_score=False, random_state=None, verbose=0, warm_start=True)"
      ]
     },
     "execution_count": 121,
     "metadata": {},
     "output_type": "execute_result"
    }
   ],
   "source": [
    "rf = RandomForestClassifier(n_estimators=100, max_depth=30, warm_start=True)\n",
    "rf.fit(trainX, trainY)"
   ]
  },
  {
   "cell_type": "code",
   "execution_count": 124,
   "metadata": {
    "collapsed": false
   },
   "outputs": [
    {
     "name": "stdout",
     "output_type": "stream",
     "text": [
      "testSet accuracy:  80.7848443843 %\n"
     ]
    }
   ],
   "source": [
    "predTestY = rf.predict(testX)\n",
    "accuracyTest = float(np.sum(predTestY == testY)) / predTestY.shape[0]\n",
    "\n",
    "print \"testSet accuracy: \", accuracyTest*100, \"%\""
   ]
  },
  {
   "cell_type": "code",
   "execution_count": null,
   "metadata": {
    "collapsed": true
   },
   "outputs": [],
   "source": []
  },
  {
   "cell_type": "code",
   "execution_count": null,
   "metadata": {
    "collapsed": true
   },
   "outputs": [],
   "source": []
  }
 ],
 "metadata": {
  "kernelspec": {
   "display_name": "Python 2",
   "language": "python",
   "name": "python2"
  },
  "language_info": {
   "codemirror_mode": {
    "name": "ipython",
    "version": 2
   },
   "file_extension": ".py",
   "mimetype": "text/x-python",
   "name": "python",
   "nbconvert_exporter": "python",
   "pygments_lexer": "ipython2",
   "version": "2.7.6"
  }
 },
 "nbformat": 4,
 "nbformat_minor": 0
}
