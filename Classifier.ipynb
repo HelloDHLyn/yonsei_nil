{
 "cells": [
  {
   "cell_type": "code",
   "execution_count": 254,
   "metadata": {
    "collapsed": true
   },
   "outputs": [],
   "source": [
    "import numpy\n",
    "import pandas\n",
    "from pandas import *\n",
    "from sklearn.ensemble import RandomForestClassifier\n",
    "from sklearn.svm import SVC\n",
    "\n",
    "import matplotlib\n",
    "import matplotlib.pyplot as plt\n",
    "\n",
    "matplotlib.style.use('ggplot')\n",
    "\n",
    "from dataloader import RawDataLoader, DataLoader\n",
    "\n",
    "raw_loader = RawDataLoader()"
   ]
  },
  {
   "cell_type": "code",
   "execution_count": 346,
   "metadata": {
    "collapsed": false
   },
   "outputs": [],
   "source": [
    "combined_data = []\n",
    "\n",
    "for group in range(1, 11):\n",
    "    data_raw = raw_loader.load_eval(str(group))\n",
    "\n",
    "    for idx in data_raw.index:\n",
    "        data = data_raw.ix[idx]\n",
    "        try:\n",
    "            data_sensor = raw_loader.load_sensor_data(data['File name'])\n",
    "        except:\n",
    "            continue\n",
    "\n",
    "        posture = data[' Input posture']\n",
    "        if posture == 'Both':\n",
    "            posture = 1\n",
    "        elif posture == 'Right':\n",
    "            posture = 2\n",
    "        else:\n",
    "            posture = 0\n",
    "            \n",
    "        age = data[' Age']\n",
    "        \n",
    "        combined_data.append([posture,\n",
    "                    age,\n",
    "                    data_sensor.acc_x.var(),\n",
    "                    data_sensor.acc_y.var(),\n",
    "                    data_sensor.acc_z.var(),\n",
    "                    data_sensor.azim.var(),\n",
    "                    data_sensor.roll.var(),\n",
    "                    data_sensor.gyro_y.var(),\n",
    "                    data_sensor.gyro_z.var(),\n",
    "                    data_sensor.acc_x.mean(),\n",
    "                    data_sensor.acc_y.mean(),\n",
    "                    data_sensor.acc_z.mean(),\n",
    "                    data_sensor.azim.mean(),\n",
    "                    data_sensor.roll.mean(),\n",
    "                    data_sensor.gyro_y.mean(),\n",
    "                    data_sensor.gyro_z.mean()])"
   ]
  },
  {
   "cell_type": "code",
   "execution_count": 347,
   "metadata": {
    "collapsed": false
   },
   "outputs": [],
   "source": [
    "df = DataFrame(combined_data, columns=['posture', 'age', 'acc_x', 'acc_y', 'acc_z', 'azim', 'roll', 'gyro_y', 'gyro_z', 'macc_x', 'macc_y', 'macc_z', 'mazim', 'mroll', 'mgyro_y', 'mgyro_z'])\n",
    "df.to_csv('data/train.csv')"
   ]
  },
  {
   "cell_type": "code",
   "execution_count": 348,
   "metadata": {
    "collapsed": false
   },
   "outputs": [],
   "source": [
    "train_data = read_csv('data/train.csv')\n",
    "\n",
    "trainY = train_data['posture'].values\n",
    "trainX = train_data.drop('posture', 1)"
   ]
  },
  {
   "cell_type": "code",
   "execution_count": 349,
   "metadata": {
    "collapsed": false
   },
   "outputs": [],
   "source": [
    "test_data = []\n",
    "for group in range(1, 3):\n",
    "    data_raw = raw_loader.load_eval('test' + str(group))\n",
    "\n",
    "    for idx in data_raw.index:\n",
    "        data = data_raw.ix[idx]\n",
    "        data_sensor = raw_loader.load_sensor_data(data['File name'])\n",
    "\n",
    "        posture = data[' Input posture']\n",
    "        if posture == 'Both':\n",
    "            posture = 1\n",
    "        elif posture == 'Right':\n",
    "            posture = 2\n",
    "        else:\n",
    "            posture = 0\n",
    "\n",
    "        age = data[' Age']\n",
    "\n",
    "        test_data.append([posture,\n",
    "                          age,\n",
    "                        data_sensor.acc_x.var(),\n",
    "                        data_sensor.acc_y.var(),\n",
    "                        data_sensor.acc_z.var(),\n",
    "                        data_sensor.azim.var(),\n",
    "                        data_sensor.roll.var(),\n",
    "                        data_sensor.gyro_y.var(),\n",
    "                        data_sensor.gyro_z.var(),\n",
    "                        data_sensor.acc_x.mean(),\n",
    "                        data_sensor.acc_y.mean(),\n",
    "                        data_sensor.acc_z.mean(),\n",
    "                        data_sensor.azim.mean(),\n",
    "                        data_sensor.roll.mean(),\n",
    "                        data_sensor.gyro_y.mean(),\n",
    "                        data_sensor.gyro_z.mean()])\n",
    "\n",
    "df = DataFrame(test_data, columns=['posture', 'age', 'acc_x', 'acc_y', 'acc_z', 'azim', 'roll', 'gyro_y', 'gyro_z', 'macc_x', 'macc_y', 'macc_z', 'mazim', 'mroll', 'mgyro_y', 'mgyro_z'])\n",
    "df.to_csv('data/test.csv')\n",
    "\n",
    "test_data = read_csv('data/test.csv')\n",
    "\n",
    "testY = test_data['posture'].values\n",
    "testX = test_data.drop('posture', 1)"
   ]
  },
  {
   "cell_type": "code",
   "execution_count": 358,
   "metadata": {
    "collapsed": false
   },
   "outputs": [
    {
     "name": "stdout",
     "output_type": "stream",
     "text": [
      "testSet accuracy:  64.2556179775 %\n"
     ]
    }
   ],
   "source": [
    "rf = RandomForestClassifier(n_estimators=100, max_depth=30, max_leaf_nodes=100)\n",
    "#svc = SVC(kernel=\"linear\", C=0.025)\n",
    "rf.fit(trainX, trainY)\n",
    "\n",
    "predTestY = rf.predict(testX)\n",
    "accuracyTest = float(np.sum(predTestY == testY)) / predTestY.shape[0]\n",
    "\n",
    "print \"testSet accuracy: \", accuracyTest*100, \"%\""
   ]
  },
  {
   "cell_type": "code",
   "execution_count": 364,
   "metadata": {
    "collapsed": false
   },
   "outputs": [
    {
     "name": "stdout",
     "output_type": "stream",
     "text": [
      "Original  :\n",
      "[1 1 1 1 1 1 1 1 1 1 1 1 1 1 0 0 0 0 0 0 0 0 0 0 0 0 0 0 0 0 0 0 0 0 3 3 3\n",
      " 3 0 0 0 0 0 0 0 0 0 0 2 2 2 2 2 2 2 2 2 2 2 2 2 2 2 2 2 2 2 2 2 2 2 2 2 2\n",
      " 2 2 2 2 3 3 3 3 3 3 3 3 3 3 3 3 3 3 3 3 3 3 3 3 3 3 3 3 3 3 1 1 1 1 1 1 1\n",
      " 1 1 1 1 1 1 1 1 1 1 1 1 1 1 1 1 1 1 1 1 1 1 1 0 0 0 0 0 0 0 0 0 0 0 0 0 0\n",
      " 0 0 0 0 0 0 0 0 0 0 0 0 0 0 0 0 2 2 2 2 2 2 2 2 2 2 2 2 2 2 2 2 2 2 2 2 2\n",
      " 2 2 2 2 2 2 2 2 2 3 3 3 3 3 3]\n",
      "Predict   :\n",
      "[1 2 3 1 1 1 1 1 1 1 1 1 1 1 0 0 0 0 0 0 0 0 0 0 0 0 0 0 0 0 0 0 0 0 0 0 0\n",
      " 0 0 0 0 0 0 0 0 0 0 0 1 1 1 1 0 1 1 1 1 1 1 1 3 2 1 1 1 1 1 1 3 1 1 1 1 1\n",
      " 1 1 1 1 3 3 3 3 3 3 3 3 3 3 3 3 3 3 3 3 3 3 3 3 3 3 3 3 3 3 2 2 2 2 1 2 1\n",
      " 1 1 2 1 3 2 3 2 2 1 1 1 2 2 1 1 1 2 2 2 3 1 2 0 0 0 0 0 0 0 0 0 0 0 0 0 0\n",
      " 0 0 0 0 0 0 0 0 0 0 0 0 0 0 0 0 2 3 2 2 2 2 2 2 2 2 2 2 2 3 2 3 3 2 2 2 3\n",
      " 2 2 3 2 2 2 2 3 2 3 3 3 3 3 3]\n"
     ]
    }
   ],
   "source": [
    "print \"Original  :\"\n",
    "print testY[1200:1400]\n",
    "print \"Predict   :\"\n",
    "print predTestY[1200:1400]"
   ]
  },
  {
   "cell_type": "code",
   "execution_count": 354,
   "metadata": {
    "collapsed": false
   },
   "outputs": [],
   "source": [
    "combined_data = []\n",
    "\n",
    "for group in range(1, 11):\n",
    "    data_raw = raw_loader.load_eval(str(group))\n",
    "\n",
    "    for idx in data_raw.index:\n",
    "        data = data_raw.ix[idx]\n",
    "        \n",
    "        try:\n",
    "            data_sensor = raw_loader.load_sensor_data(data['File name'])\n",
    "        except:\n",
    "            continue\n",
    "            \n",
    "        situation = data[' Input situation']\n",
    "        if situation == 'Sit':\n",
    "            situation = 1\n",
    "        elif situation == 'Stand':\n",
    "            situation = 2\n",
    "        elif situation == 'Walk':\n",
    "            situation = 3\n",
    "        else:\n",
    "            situation = 0\n",
    "        \n",
    "        \n",
    "        combined_data.append([situation,\n",
    "                    data_sensor.acc_z.var(),\n",
    "                    data_sensor.pitch.var(),\n",
    "                    data_sensor.azim.var(),\n",
    "                    data_sensor.roll.var(),\n",
    "                    data_sensor.gyro_z.var(),\n",
    "                    data_sensor.acc_z.mean(),\n",
    "                    data_sensor.pitch.var(),\n",
    "                    data_sensor.azim.mean(),\n",
    "                    data_sensor.roll.mean(),\n",
    "                    data_sensor.gyro_z.mean()])\n",
    "        \n",
    "df = DataFrame(combined_data, columns=['situation', 'acc_z', 'pitch', 'azim', 'roll', 'gyro_z', 'macc_z', 'mpitch', 'mazim', 'mroll', 'mgyro_z'])\n",
    "df.to_csv('data/train1.csv')"
   ]
  },
  {
   "cell_type": "code",
   "execution_count": 355,
   "metadata": {
    "collapsed": false
   },
   "outputs": [],
   "source": [
    "train_data = read_csv('data/train1.csv')\n",
    "\n",
    "trainY = train_data['situation'].values\n",
    "trainX = train_data.drop('situation', 1)"
   ]
  },
  {
   "cell_type": "code",
   "execution_count": 356,
   "metadata": {
    "collapsed": false
   },
   "outputs": [],
   "source": [
    "test_data = []\n",
    "\n",
    "for group in range(1, 3):\n",
    "    data_raw = raw_loader.load_eval('test' + str(group))\n",
    "\n",
    "    for idx in data_raw.index:\n",
    "        data = data_raw.ix[idx]\n",
    "        data_sensor = raw_loader.load_sensor_data(data['File name'])\n",
    "\n",
    "        situation = data[' Input situation']\n",
    "        if situation == 'Sit':\n",
    "            situation = 1\n",
    "        elif situation == 'Stand':\n",
    "            situation = 2\n",
    "        elif situation == 'Walk':\n",
    "            situation = 3\n",
    "        else:\n",
    "            situation = 0\n",
    "\n",
    "        age = data[' Age']\n",
    "\n",
    "        test_data.append([situation,\n",
    "                        data_sensor.acc_z.var(),\n",
    "                        data_sensor.pitch.var(),\n",
    "                        data_sensor.azim.var(),\n",
    "                        data_sensor.roll.var(),\n",
    "                        data_sensor.gyro_z.var(),\n",
    "                        data_sensor.acc_z.mean(),\n",
    "                        data_sensor.pitch.var(),\n",
    "                        data_sensor.azim.mean(),\n",
    "                        data_sensor.roll.mean(),\n",
    "                        data_sensor.gyro_z.mean()])\n",
    "\n",
    "df = DataFrame(test_data, columns=['situation', 'acc_z', 'pitch', 'azim', 'roll', 'gyro_z', 'macc_z', 'mpitch', 'mazim', 'mroll', 'mgyro_z'])\n",
    "df.to_csv('data/test1.csv')\n",
    "\n",
    "test_data = read_csv('data/test1.csv')\n",
    "\n",
    "testY = test_data['situation'].values\n",
    "testX = test_data.drop('situation', 1)"
   ]
  },
  {
   "cell_type": "code",
   "execution_count": null,
   "metadata": {
    "collapsed": true
   },
   "outputs": [],
   "source": []
  },
  {
   "cell_type": "code",
   "execution_count": 181,
   "metadata": {
    "collapsed": false
   },
   "outputs": [
    {
     "data": {
      "text/plain": [
       "'0.13.1'"
      ]
     },
     "execution_count": 181,
     "metadata": {},
     "output_type": "execute_result"
    }
   ],
   "source": [
    "pandas.__version__"
   ]
  },
  {
   "cell_type": "code",
   "execution_count": null,
   "metadata": {
    "collapsed": true
   },
   "outputs": [],
   "source": []
  }
 ],
 "metadata": {
  "kernelspec": {
   "display_name": "Python 2",
   "language": "python",
   "name": "python2"
  },
  "language_info": {
   "codemirror_mode": {
    "name": "ipython",
    "version": 2
   },
   "file_extension": ".py",
   "mimetype": "text/x-python",
   "name": "python",
   "nbconvert_exporter": "python",
   "pygments_lexer": "ipython2",
   "version": "2.7.6"
  }
 },
 "nbformat": 4,
 "nbformat_minor": 0
}
